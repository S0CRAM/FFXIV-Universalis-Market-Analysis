{
 "cells": [
  {
   "cell_type": "markdown",
   "metadata": {
    "collapsed": true,
    "pycharm": {
     "name": "#%% md\n"
    }
   },
   "source": [
    "# Importing libraries"
   ]
  },
  {
   "cell_type": "code",
   "execution_count": 106,
   "outputs": [],
   "source": [
    "import requests\n",
    "import pandas as pd\n",
    "import seaborn as sns\n",
    "import matplotlib.pyplot as plt"
   ],
   "metadata": {
    "collapsed": false,
    "pycharm": {
     "name": "#%%\n"
    }
   }
  },
  {
   "cell_type": "markdown",
   "source": [
    "## Defining functions we'll be using"
   ],
   "metadata": {
    "collapsed": false,
    "pycharm": {
     "name": "#%% md\n"
    }
   }
  },
  {
   "cell_type": "code",
   "execution_count": 107,
   "outputs": [],
   "source": [
    "def sales(item_ID):\n",
    "    URL = 'https://universalis.app/api/history/primal/' + str(item_ID)\n",
    "    # print(requests.get(URL).json()['entries'])\n",
    "    sale_df = pd.DataFrame.from_dict(requests.get(URL).json()['entries'])\n",
    "    return sale_df\n",
    "def Remove_Outlier_Indices(df): # taken from https://tinyurl.com/5ezpvxd8\n",
    "    Q1 = df['pricePerUnit'].quantile(0.25)\n",
    "    Q3 = df['pricePerUnit'].quantile(0.75)\n",
    "    IQR = Q3 - Q1\n",
    "    trueList = ~((df['pricePerUnit'] < (Q1 - 1.5 * IQR)) |(df['pricePerUnit'] > (Q3 + 1.5 * IQR)))\n",
    "    return trueList"
   ],
   "metadata": {
    "collapsed": false,
    "pycharm": {
     "name": "#%%\n"
    }
   }
  },
  {
   "cell_type": "code",
   "execution_count": 108,
   "outputs": [
    {
     "data": {
      "text/plain": "         hq  pricePerUnit  quantity   timestamp  worldName  worldID\n0     False           750         5  1633197609  Excalibur       93\n1     False           700         1  1633197605  Excalibur       93\n2     False           679         1  1633197603  Excalibur       93\n3     False           600         1  1633197601  Excalibur       93\n4     False           500         1  1633197599  Excalibur       93\n...     ...           ...       ...         ...        ...      ...\n1795  False           300        99  1628218915   Hyperion       95\n1796  False           250        99  1628208516   Behemoth       78\n1797   True          2000        10  1628182662    Famfrit       35\n1798   True          2000        10  1628182660    Famfrit       35\n1799   True          2000        10  1628182659    Famfrit       35\n\n[1800 rows x 6 columns]",
      "text/html": "<div>\n<style scoped>\n    .dataframe tbody tr th:only-of-type {\n        vertical-align: middle;\n    }\n\n    .dataframe tbody tr th {\n        vertical-align: top;\n    }\n\n    .dataframe thead th {\n        text-align: right;\n    }\n</style>\n<table border=\"1\" class=\"dataframe\">\n  <thead>\n    <tr style=\"text-align: right;\">\n      <th></th>\n      <th>hq</th>\n      <th>pricePerUnit</th>\n      <th>quantity</th>\n      <th>timestamp</th>\n      <th>worldName</th>\n      <th>worldID</th>\n    </tr>\n  </thead>\n  <tbody>\n    <tr>\n      <th>0</th>\n      <td>False</td>\n      <td>750</td>\n      <td>5</td>\n      <td>1633197609</td>\n      <td>Excalibur</td>\n      <td>93</td>\n    </tr>\n    <tr>\n      <th>1</th>\n      <td>False</td>\n      <td>700</td>\n      <td>1</td>\n      <td>1633197605</td>\n      <td>Excalibur</td>\n      <td>93</td>\n    </tr>\n    <tr>\n      <th>2</th>\n      <td>False</td>\n      <td>679</td>\n      <td>1</td>\n      <td>1633197603</td>\n      <td>Excalibur</td>\n      <td>93</td>\n    </tr>\n    <tr>\n      <th>3</th>\n      <td>False</td>\n      <td>600</td>\n      <td>1</td>\n      <td>1633197601</td>\n      <td>Excalibur</td>\n      <td>93</td>\n    </tr>\n    <tr>\n      <th>4</th>\n      <td>False</td>\n      <td>500</td>\n      <td>1</td>\n      <td>1633197599</td>\n      <td>Excalibur</td>\n      <td>93</td>\n    </tr>\n    <tr>\n      <th>...</th>\n      <td>...</td>\n      <td>...</td>\n      <td>...</td>\n      <td>...</td>\n      <td>...</td>\n      <td>...</td>\n    </tr>\n    <tr>\n      <th>1795</th>\n      <td>False</td>\n      <td>300</td>\n      <td>99</td>\n      <td>1628218915</td>\n      <td>Hyperion</td>\n      <td>95</td>\n    </tr>\n    <tr>\n      <th>1796</th>\n      <td>False</td>\n      <td>250</td>\n      <td>99</td>\n      <td>1628208516</td>\n      <td>Behemoth</td>\n      <td>78</td>\n    </tr>\n    <tr>\n      <th>1797</th>\n      <td>True</td>\n      <td>2000</td>\n      <td>10</td>\n      <td>1628182662</td>\n      <td>Famfrit</td>\n      <td>35</td>\n    </tr>\n    <tr>\n      <th>1798</th>\n      <td>True</td>\n      <td>2000</td>\n      <td>10</td>\n      <td>1628182660</td>\n      <td>Famfrit</td>\n      <td>35</td>\n    </tr>\n    <tr>\n      <th>1799</th>\n      <td>True</td>\n      <td>2000</td>\n      <td>10</td>\n      <td>1628182659</td>\n      <td>Famfrit</td>\n      <td>35</td>\n    </tr>\n  </tbody>\n</table>\n<p>1800 rows × 6 columns</p>\n</div>"
     },
     "execution_count": 108,
     "metadata": {},
     "output_type": "execute_result"
    }
   ],
   "source": [
    "Hi = input(\"Enter item ID: \")\n",
    "df = sales(Hi)\n",
    "df"
   ],
   "metadata": {
    "collapsed": false,
    "pycharm": {
     "name": "#%%\n"
    }
   }
  },
  {
   "cell_type": "code",
   "execution_count": 109,
   "outputs": [
    {
     "data": {
      "text/plain": "         hq  pricePerUnit  quantity   timestamp  worldName  worldID\n0     False           750         5  1633197609  Excalibur       93\n1     False           700         1  1633197605  Excalibur       93\n2     False           679         1  1633197603  Excalibur       93\n3     False           600         1  1633197601  Excalibur       93\n4     False           500         1  1633197599  Excalibur       93\n...     ...           ...       ...         ...        ...      ...\n1792   True           180         2  1628234709   Behemoth       78\n1793   True           505        22  1628228456     Ultros       77\n1794  False           492        59  1628228340     Ultros       77\n1795  False           300        99  1628218915   Hyperion       95\n1796  False           250        99  1628208516   Behemoth       78\n\n[1713 rows x 6 columns]",
      "text/html": "<div>\n<style scoped>\n    .dataframe tbody tr th:only-of-type {\n        vertical-align: middle;\n    }\n\n    .dataframe tbody tr th {\n        vertical-align: top;\n    }\n\n    .dataframe thead th {\n        text-align: right;\n    }\n</style>\n<table border=\"1\" class=\"dataframe\">\n  <thead>\n    <tr style=\"text-align: right;\">\n      <th></th>\n      <th>hq</th>\n      <th>pricePerUnit</th>\n      <th>quantity</th>\n      <th>timestamp</th>\n      <th>worldName</th>\n      <th>worldID</th>\n    </tr>\n  </thead>\n  <tbody>\n    <tr>\n      <th>0</th>\n      <td>False</td>\n      <td>750</td>\n      <td>5</td>\n      <td>1633197609</td>\n      <td>Excalibur</td>\n      <td>93</td>\n    </tr>\n    <tr>\n      <th>1</th>\n      <td>False</td>\n      <td>700</td>\n      <td>1</td>\n      <td>1633197605</td>\n      <td>Excalibur</td>\n      <td>93</td>\n    </tr>\n    <tr>\n      <th>2</th>\n      <td>False</td>\n      <td>679</td>\n      <td>1</td>\n      <td>1633197603</td>\n      <td>Excalibur</td>\n      <td>93</td>\n    </tr>\n    <tr>\n      <th>3</th>\n      <td>False</td>\n      <td>600</td>\n      <td>1</td>\n      <td>1633197601</td>\n      <td>Excalibur</td>\n      <td>93</td>\n    </tr>\n    <tr>\n      <th>4</th>\n      <td>False</td>\n      <td>500</td>\n      <td>1</td>\n      <td>1633197599</td>\n      <td>Excalibur</td>\n      <td>93</td>\n    </tr>\n    <tr>\n      <th>...</th>\n      <td>...</td>\n      <td>...</td>\n      <td>...</td>\n      <td>...</td>\n      <td>...</td>\n      <td>...</td>\n    </tr>\n    <tr>\n      <th>1792</th>\n      <td>True</td>\n      <td>180</td>\n      <td>2</td>\n      <td>1628234709</td>\n      <td>Behemoth</td>\n      <td>78</td>\n    </tr>\n    <tr>\n      <th>1793</th>\n      <td>True</td>\n      <td>505</td>\n      <td>22</td>\n      <td>1628228456</td>\n      <td>Ultros</td>\n      <td>77</td>\n    </tr>\n    <tr>\n      <th>1794</th>\n      <td>False</td>\n      <td>492</td>\n      <td>59</td>\n      <td>1628228340</td>\n      <td>Ultros</td>\n      <td>77</td>\n    </tr>\n    <tr>\n      <th>1795</th>\n      <td>False</td>\n      <td>300</td>\n      <td>99</td>\n      <td>1628218915</td>\n      <td>Hyperion</td>\n      <td>95</td>\n    </tr>\n    <tr>\n      <th>1796</th>\n      <td>False</td>\n      <td>250</td>\n      <td>99</td>\n      <td>1628208516</td>\n      <td>Behemoth</td>\n      <td>78</td>\n    </tr>\n  </tbody>\n</table>\n<p>1713 rows × 6 columns</p>\n</div>"
     },
     "execution_count": 109,
     "metadata": {},
     "output_type": "execute_result"
    }
   ],
   "source": [
    "df_PPU = Remove_Outlier_Indices(df)\n",
    "dfSubset = df[df_PPU]\n",
    "# dfSubset.describe()\n",
    "dfSubset"
   ],
   "metadata": {
    "collapsed": false,
    "pycharm": {
     "name": "#%%\n"
    }
   }
  },
  {
   "cell_type": "markdown",
   "source": [
    "We can assume each server having their own market. Thus, it's difficult to correlate their data with each other."
   ],
   "metadata": {
    "collapsed": false,
    "pycharm": {
     "name": "#%% md\n"
    }
   }
  },
  {
   "cell_type": "code",
   "execution_count": 110,
   "outputs": [
    {
     "data": {
      "text/plain": "<AxesSubplot:>"
     },
     "execution_count": 110,
     "metadata": {},
     "output_type": "execute_result"
    },
    {
     "data": {
      "text/plain": "<Figure size 432x288 with 2 Axes>",
      "image/png": "[encoded data removed]"
     },
     "metadata": {
      "needs_background": "light"
     },
     "output_type": "display_data"
    }
   ],
   "source": [
    "sns.heatmap(df.corr(),annot=True)"
   ],
   "metadata": {
    "collapsed": false,
    "pycharm": {
     "name": "#%%\n"
    }
   }
  },
  {
   "cell_type": "markdown",
   "source": [
    "# Boxplot of NQ/HQ and price"
   ],
   "metadata": {
    "collapsed": false,
    "pycharm": {
     "name": "#%% md\n"
    }
   }
  },
  {
   "cell_type": "code",
   "execution_count": 111,
   "outputs": [
    {
     "data": {
      "text/plain": "<AxesSubplot:xlabel='hq', ylabel='pricePerUnit'>"
     },
     "execution_count": 111,
     "metadata": {},
     "output_type": "execute_result"
    },
    {
     "data": {
      "text/plain": "<Figure size 576x576 with 1 Axes>",
      "image/png": "[encoded data removed]"
     },
     "metadata": {
      "needs_background": "light"
     },
     "output_type": "display_data"
    }
   ],
   "source": [
    "plt.figure(figsize=(8,8))\n",
    "sns.boxplot(x='hq',y='pricePerUnit',data=dfSubset)\n",
    "# sns.boxplot(x='hq',y='pricePerUnit',data=df)"
   ],
   "metadata": {
    "collapsed": false,
    "pycharm": {
     "name": "#%%\n"
    }
   }
  },
  {
   "cell_type": "markdown",
   "source": [
    "## The graph above should give us in-depth view about the difference of prices between HQ and NQ items"
   ],
   "metadata": {
    "collapsed": false,
    "pycharm": {
     "name": "#%% md\n"
    }
   }
  }
 ],
 "metadata": {
  "kernelspec": {
   "display_name": "Python 3",
   "language": "python",
   "name": "python3"
  },
  "language_info": {
   "codemirror_mode": {
    "name": "ipython",
    "version": 2
   },
   "file_extension": ".py",
   "mimetype": "text/x-python",
   "name": "python",
   "nbconvert_exporter": "python",
   "pygments_lexer": "ipython2",
   "version": "2.7.6"
  }
 },
 "nbformat": 4,
 "nbformat_minor": 0
}