{
 "cells": [
  {
   "cell_type": "markdown",
   "metadata": {
    "collapsed": true,
    "pycharm": {
     "name": "#%% md\n"
    }
   },
   "source": [
    "# Importing libraries"
   ]
  },
  {
   "cell_type": "code",
   "execution_count": 73,
   "outputs": [],
   "source": [
    "import requests\n",
    "import pandas as pd\n",
    "import seaborn as sns\n",
    "import matplotlib.pyplot as plt"
   ],
   "metadata": {
    "collapsed": false,
    "pycharm": {
     "name": "#%%\n"
    }
   }
  },
  {
   "cell_type": "markdown",
   "source": [
    "## Defining functions we'll be using"
   ],
   "metadata": {
    "collapsed": false,
    "pycharm": {
     "name": "#%% md\n"
    }
   }
  },
  {
   "cell_type": "code",
   "execution_count": 74,
   "outputs": [],
   "source": [
    "def sales(item_ID):\n",
    "    URL = 'https://universalis.app/api/history/primal/' + str(item_ID)\n",
    "    # print(requests.get(URL).json()['entries'])\n",
    "    sale_df = pd.DataFrame.from_dict(requests.get(URL).json()['entries'])\n",
    "    return sale_df\n",
    "def Remove_Outlier_Indices(df): # taken from https://tinyurl.com/5ezpvxd8\n",
    "    Q1 = df['pricePerUnit'].quantile(0.25)\n",
    "    Q3 = df['pricePerUnit'].quantile(0.75)\n",
    "    IQR = Q3 - Q1\n",
    "    trueList = ~((df['pricePerUnit'] < (Q1 - 1.5 * IQR)) |(df['pricePerUnit'] > (Q3 + 1.5 * IQR)))\n",
    "    return trueList"
   ],
   "metadata": {
    "collapsed": false,
    "pycharm": {
     "name": "#%%\n"
    }
   }
  },
  {
   "cell_type": "code",
   "execution_count": 75,
   "outputs": [
    {
     "data": {
      "text/plain": "        pricePerUnit  quantity     timestamp      worldID\ncount    1800.000000    1800.0  1.800000e+03  1800.000000\nmean    79692.987778       1.0  1.631958e+09    69.611667\nstd     45488.736536       0.0  7.202278e+05    18.897688\nmin     20000.000000       1.0  1.630746e+09    35.000000\n25%     58594.250000       1.0  1.631338e+09    55.000000\n50%     69788.000000       1.0  1.631969e+09    77.000000\n75%     87863.250000       1.0  1.632551e+09    93.000000\nmax    380000.000000       1.0  1.633212e+09    95.000000",
      "text/html": "<div>\n<style scoped>\n    .dataframe tbody tr th:only-of-type {\n        vertical-align: middle;\n    }\n\n    .dataframe tbody tr th {\n        vertical-align: top;\n    }\n\n    .dataframe thead th {\n        text-align: right;\n    }\n</style>\n<table border=\"1\" class=\"dataframe\">\n  <thead>\n    <tr style=\"text-align: right;\">\n      <th></th>\n      <th>pricePerUnit</th>\n      <th>quantity</th>\n      <th>timestamp</th>\n      <th>worldID</th>\n    </tr>\n  </thead>\n  <tbody>\n    <tr>\n      <th>count</th>\n      <td>1800.000000</td>\n      <td>1800.0</td>\n      <td>1.800000e+03</td>\n      <td>1800.000000</td>\n    </tr>\n    <tr>\n      <th>mean</th>\n      <td>79692.987778</td>\n      <td>1.0</td>\n      <td>1.631958e+09</td>\n      <td>69.611667</td>\n    </tr>\n    <tr>\n      <th>std</th>\n      <td>45488.736536</td>\n      <td>0.0</td>\n      <td>7.202278e+05</td>\n      <td>18.897688</td>\n    </tr>\n    <tr>\n      <th>min</th>\n      <td>20000.000000</td>\n      <td>1.0</td>\n      <td>1.630746e+09</td>\n      <td>35.000000</td>\n    </tr>\n    <tr>\n      <th>25%</th>\n      <td>58594.250000</td>\n      <td>1.0</td>\n      <td>1.631338e+09</td>\n      <td>55.000000</td>\n    </tr>\n    <tr>\n      <th>50%</th>\n      <td>69788.000000</td>\n      <td>1.0</td>\n      <td>1.631969e+09</td>\n      <td>77.000000</td>\n    </tr>\n    <tr>\n      <th>75%</th>\n      <td>87863.250000</td>\n      <td>1.0</td>\n      <td>1.632551e+09</td>\n      <td>93.000000</td>\n    </tr>\n    <tr>\n      <th>max</th>\n      <td>380000.000000</td>\n      <td>1.0</td>\n      <td>1.633212e+09</td>\n      <td>95.000000</td>\n    </tr>\n  </tbody>\n</table>\n</div>"
     },
     "execution_count": 75,
     "metadata": {},
     "output_type": "execute_result"
    }
   ],
   "source": [
    "Hi = input(\"Enter item ID: \")\n",
    "df = sales(Hi)\n",
    "df.describe()"
   ],
   "metadata": {
    "collapsed": false,
    "pycharm": {
     "name": "#%%\n"
    }
   }
  },
  {
   "cell_type": "code",
   "execution_count": 76,
   "outputs": [
    {
     "data": {
      "text/plain": "         hq  pricePerUnit  quantity   timestamp  worldName  worldID\n0      True         51557         1  1633211932  Leviathan       64\n1      True         60800         1  1633209510      Lamia       55\n2      True         51716         1  1633209394  Leviathan       64\n3      True         58861         1  1633209141   Behemoth       78\n4      True         58689         1  1633209136   Behemoth       78\n...     ...           ...       ...         ...        ...      ...\n1795   True         58716         1  1630753562     Exodus       53\n1796   True         39998         1  1630752720      Lamia       55\n1797   True         54509         1  1630749167   Hyperion       95\n1798   True         67000         1  1630748488    Famfrit       35\n1799  False         55999         1  1630746228     Exodus       53\n\n[1709 rows x 6 columns]",
      "text/html": "<div>\n<style scoped>\n    .dataframe tbody tr th:only-of-type {\n        vertical-align: middle;\n    }\n\n    .dataframe tbody tr th {\n        vertical-align: top;\n    }\n\n    .dataframe thead th {\n        text-align: right;\n    }\n</style>\n<table border=\"1\" class=\"dataframe\">\n  <thead>\n    <tr style=\"text-align: right;\">\n      <th></th>\n      <th>hq</th>\n      <th>pricePerUnit</th>\n      <th>quantity</th>\n      <th>timestamp</th>\n      <th>worldName</th>\n      <th>worldID</th>\n    </tr>\n  </thead>\n  <tbody>\n    <tr>\n      <th>0</th>\n      <td>True</td>\n      <td>51557</td>\n      <td>1</td>\n      <td>1633211932</td>\n      <td>Leviathan</td>\n      <td>64</td>\n    </tr>\n    <tr>\n      <th>1</th>\n      <td>True</td>\n      <td>60800</td>\n      <td>1</td>\n      <td>1633209510</td>\n      <td>Lamia</td>\n      <td>55</td>\n    </tr>\n    <tr>\n      <th>2</th>\n      <td>True</td>\n      <td>51716</td>\n      <td>1</td>\n      <td>1633209394</td>\n      <td>Leviathan</td>\n      <td>64</td>\n    </tr>\n    <tr>\n      <th>3</th>\n      <td>True</td>\n      <td>58861</td>\n      <td>1</td>\n      <td>1633209141</td>\n      <td>Behemoth</td>\n      <td>78</td>\n    </tr>\n    <tr>\n      <th>4</th>\n      <td>True</td>\n      <td>58689</td>\n      <td>1</td>\n      <td>1633209136</td>\n      <td>Behemoth</td>\n      <td>78</td>\n    </tr>\n    <tr>\n      <th>...</th>\n      <td>...</td>\n      <td>...</td>\n      <td>...</td>\n      <td>...</td>\n      <td>...</td>\n      <td>...</td>\n    </tr>\n    <tr>\n      <th>1795</th>\n      <td>True</td>\n      <td>58716</td>\n      <td>1</td>\n      <td>1630753562</td>\n      <td>Exodus</td>\n      <td>53</td>\n    </tr>\n    <tr>\n      <th>1796</th>\n      <td>True</td>\n      <td>39998</td>\n      <td>1</td>\n      <td>1630752720</td>\n      <td>Lamia</td>\n      <td>55</td>\n    </tr>\n    <tr>\n      <th>1797</th>\n      <td>True</td>\n      <td>54509</td>\n      <td>1</td>\n      <td>1630749167</td>\n      <td>Hyperion</td>\n      <td>95</td>\n    </tr>\n    <tr>\n      <th>1798</th>\n      <td>True</td>\n      <td>67000</td>\n      <td>1</td>\n      <td>1630748488</td>\n      <td>Famfrit</td>\n      <td>35</td>\n    </tr>\n    <tr>\n      <th>1799</th>\n      <td>False</td>\n      <td>55999</td>\n      <td>1</td>\n      <td>1630746228</td>\n      <td>Exodus</td>\n      <td>53</td>\n    </tr>\n  </tbody>\n</table>\n<p>1709 rows × 6 columns</p>\n</div>"
     },
     "execution_count": 76,
     "metadata": {},
     "output_type": "execute_result"
    }
   ],
   "source": [
    "df_PPU = Remove_Outlier_Indices(df)\n",
    "dfSubset = df[df_PPU]\n",
    "# dfSubset.describe()\n",
    "dfSubset"
   ],
   "metadata": {
    "collapsed": false,
    "pycharm": {
     "name": "#%%\n"
    }
   }
  },
  {
   "cell_type": "code",
   "execution_count": 77,
   "outputs": [
    {
     "data": {
      "text/plain": "         hq  pricePerUnit  quantity   timestamp  worldName  worldID\n0      True         51557         1  1633211932  Leviathan       64\n1      True         60800         1  1633209510      Lamia       55\n2      True         51716         1  1633209394  Leviathan       64\n3      True         58861         1  1633209141   Behemoth       78\n4      True         58689         1  1633209136   Behemoth       78\n...     ...           ...       ...         ...        ...      ...\n1795   True         58716         1  1630753562     Exodus       53\n1796   True         39998         1  1630752720      Lamia       55\n1797   True         54509         1  1630749167   Hyperion       95\n1798   True         67000         1  1630748488    Famfrit       35\n1799  False         55999         1  1630746228     Exodus       53\n\n[1800 rows x 6 columns]",
      "text/html": "<div>\n<style scoped>\n    .dataframe tbody tr th:only-of-type {\n        vertical-align: middle;\n    }\n\n    .dataframe tbody tr th {\n        vertical-align: top;\n    }\n\n    .dataframe thead th {\n        text-align: right;\n    }\n</style>\n<table border=\"1\" class=\"dataframe\">\n  <thead>\n    <tr style=\"text-align: right;\">\n      <th></th>\n      <th>hq</th>\n      <th>pricePerUnit</th>\n      <th>quantity</th>\n      <th>timestamp</th>\n      <th>worldName</th>\n      <th>worldID</th>\n    </tr>\n  </thead>\n  <tbody>\n    <tr>\n      <th>0</th>\n      <td>True</td>\n      <td>51557</td>\n      <td>1</td>\n      <td>1633211932</td>\n      <td>Leviathan</td>\n      <td>64</td>\n    </tr>\n    <tr>\n      <th>1</th>\n      <td>True</td>\n      <td>60800</td>\n      <td>1</td>\n      <td>1633209510</td>\n      <td>Lamia</td>\n      <td>55</td>\n    </tr>\n    <tr>\n      <th>2</th>\n      <td>True</td>\n      <td>51716</td>\n      <td>1</td>\n      <td>1633209394</td>\n      <td>Leviathan</td>\n      <td>64</td>\n    </tr>\n    <tr>\n      <th>3</th>\n      <td>True</td>\n      <td>58861</td>\n      <td>1</td>\n      <td>1633209141</td>\n      <td>Behemoth</td>\n      <td>78</td>\n    </tr>\n    <tr>\n      <th>4</th>\n      <td>True</td>\n      <td>58689</td>\n      <td>1</td>\n      <td>1633209136</td>\n      <td>Behemoth</td>\n      <td>78</td>\n    </tr>\n    <tr>\n      <th>...</th>\n      <td>...</td>\n      <td>...</td>\n      <td>...</td>\n      <td>...</td>\n      <td>...</td>\n      <td>...</td>\n    </tr>\n    <tr>\n      <th>1795</th>\n      <td>True</td>\n      <td>58716</td>\n      <td>1</td>\n      <td>1630753562</td>\n      <td>Exodus</td>\n      <td>53</td>\n    </tr>\n    <tr>\n      <th>1796</th>\n      <td>True</td>\n      <td>39998</td>\n      <td>1</td>\n      <td>1630752720</td>\n      <td>Lamia</td>\n      <td>55</td>\n    </tr>\n    <tr>\n      <th>1797</th>\n      <td>True</td>\n      <td>54509</td>\n      <td>1</td>\n      <td>1630749167</td>\n      <td>Hyperion</td>\n      <td>95</td>\n    </tr>\n    <tr>\n      <th>1798</th>\n      <td>True</td>\n      <td>67000</td>\n      <td>1</td>\n      <td>1630748488</td>\n      <td>Famfrit</td>\n      <td>35</td>\n    </tr>\n    <tr>\n      <th>1799</th>\n      <td>False</td>\n      <td>55999</td>\n      <td>1</td>\n      <td>1630746228</td>\n      <td>Exodus</td>\n      <td>53</td>\n    </tr>\n  </tbody>\n</table>\n<p>1800 rows × 6 columns</p>\n</div>"
     },
     "execution_count": 77,
     "metadata": {},
     "output_type": "execute_result"
    }
   ],
   "source": [
    "df.dropna()"
   ],
   "metadata": {
    "collapsed": false,
    "pycharm": {
     "name": "#%%\n"
    }
   }
  },
  {
   "cell_type": "markdown",
   "source": [
    "We can assume each server having their own market. Thus, it's difficult to correlate their data with each other."
   ],
   "metadata": {
    "collapsed": false,
    "pycharm": {
     "name": "#%% md\n"
    }
   }
  },
  {
   "cell_type": "code",
   "execution_count": 78,
   "outputs": [
    {
     "data": {
      "text/plain": "<AxesSubplot:>"
     },
     "execution_count": 78,
     "metadata": {},
     "output_type": "execute_result"
    },
    {
     "data": {
      "text/plain": "<Figure size 432x288 with 2 Axes>",
      "image/png": "[encoded data removed]"
     },
     "metadata": {
      "needs_background": "light"
     },
     "output_type": "display_data"
    }
   ],
   "source": [
    "sns.heatmap(df.corr(),annot=True)"
   ],
   "metadata": {
    "collapsed": false,
    "pycharm": {
     "name": "#%%\n"
    }
   }
  },
  {
   "cell_type": "markdown",
   "source": [
    "# Boxplot of hq and price"
   ],
   "metadata": {
    "collapsed": false,
    "pycharm": {
     "name": "#%% md\n"
    }
   }
  },
  {
   "cell_type": "code",
   "execution_count": 85,
   "outputs": [
    {
     "data": {
      "text/plain": "<AxesSubplot:xlabel='hq', ylabel='pricePerUnit'>"
     },
     "execution_count": 85,
     "metadata": {},
     "output_type": "execute_result"
    },
    {
     "data": {
      "text/plain": "<Figure size 576x576 with 1 Axes>",
      "image/png": "[encoded data removed]"
     },
     "metadata": {
      "needs_background": "light"
     },
     "output_type": "display_data"
    }
   ],
   "source": [
    "plt.figure(figsize=(8,8))\n",
    "sns.boxplot(x='hq',y='pricePerUnit',data=dfSubset)\n",
    "# sns.boxplot(x='hq',y='pricePerUnit',data=df)"
   ],
   "metadata": {
    "collapsed": false,
    "pycharm": {
     "name": "#%%\n"
    }
   }
  },
  {
   "cell_type": "markdown",
   "source": [
    "## The graph above should give us in-depth view about the difference of prices"
   ],
   "metadata": {
    "collapsed": false,
    "pycharm": {
     "name": "#%% md\n"
    }
   }
  }
 ],
 "metadata": {
  "kernelspec": {
   "display_name": "Python 3",
   "language": "python",
   "name": "python3"
  },
  "language_info": {
   "codemirror_mode": {
    "name": "ipython",
    "version": 2
   },
   "file_extension": ".py",
   "mimetype": "text/x-python",
   "name": "python",
   "nbconvert_exporter": "python",
   "pygments_lexer": "ipython2",
   "version": "2.7.6"
  }
 },
 "nbformat": 4,
 "nbformat_minor": 0
}